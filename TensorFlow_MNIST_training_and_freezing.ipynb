{
  "nbformat": 4,
  "nbformat_minor": 0,
  "metadata": {
    "colab": {
      "name": "TensorFlow MNIST training and freezing",
      "provenance": [],
      "collapsed_sections": [],
      "include_colab_link": true
    },
    "kernelspec": {
      "name": "python3",
      "display_name": "Python 3"
    },
    "accelerator": "GPU"
  },
  "cells": [
    {
      "cell_type": "markdown",
      "metadata": {
        "id": "view-in-github",
        "colab_type": "text"
      },
      "source": [
        "<a href=\"https://colab.research.google.com/github/980608/python/blob/main/TensorFlow_MNIST_training_and_freezing.ipynb\" target=\"_parent\"><img src=\"https://colab.research.google.com/assets/colab-badge.svg\" alt=\"Open In Colab\"/></a>"
      ]
    },
    {
      "cell_type": "markdown",
      "metadata": {
        "id": "uKQskU08yiaa"
      },
      "source": [
        "# TensorFlow MNIST example"
      ]
    },
    {
      "cell_type": "code",
      "metadata": {
        "id": "bvBmdSLAymfO"
      },
      "source": [
        "import datetime\n",
        "import tensorflow as tf\n",
        "from tensorflow.keras import datasets as tfds"
      ],
      "execution_count": null,
      "outputs": []
    },
    {
      "cell_type": "code",
      "metadata": {
        "id": "iofzepdtzLfz",
        "colab": {
          "base_uri": "https://localhost:8080/"
        },
        "outputId": "062efd75-de4e-40a3-aa70-7262a6fdb41c"
      },
      "source": [
        "(x_train, y_train), (x_test, y_test) = tfds.mnist.load_data()\n",
        "\n",
        "x_train, x_test = x_train / 255.0, x_test / 255.0"
      ],
      "execution_count": null,
      "outputs": [
        {
          "output_type": "stream",
          "text": [
            "Downloading data from https://storage.googleapis.com/tensorflow/tf-keras-datasets/mnist.npz\n",
            "11493376/11490434 [==============================] - 0s 0us/step\n"
          ],
          "name": "stdout"
        }
      ]
    },
    {
      "cell_type": "code",
      "metadata": {
        "id": "Q7zcJj_nzn63"
      },
      "source": [
        "model = tf.keras.models.Sequential([\n",
        "    tf.keras.layers.Flatten(input_shape=(28, 28), name='input'),\n",
        "    tf.keras.layers.Dense(128, activation='relu'),\n",
        "    tf.keras.layers.Dropout(0.2),\n",
        "    tf.keras.layers.Dense(10, activation='softmax', name='output')\n",
        "])\n",
        "\n",
        "\n",
        "model.compile(optimizer='adam',\n",
        "              loss='sparse_categorical_crossentropy',\n",
        "              metrics=['accuracy'])"
      ],
      "execution_count": null,
      "outputs": []
    },
    {
      "cell_type": "code",
      "metadata": {
        "id": "6R7KBpvY0XGP",
        "colab": {
          "base_uri": "https://localhost:8080/"
        },
        "outputId": "06518d2f-e73e-45bc-eb5c-52db79f34682"
      },
      "source": [
        "model.fit(x=x_train, \n",
        "          y=y_train, \n",
        "          epochs=5, \n",
        "          validation_data=(x_test, y_test))"
      ],
      "execution_count": null,
      "outputs": [
        {
          "output_type": "stream",
          "text": [
            "Epoch 1/5\n",
            "1875/1875 [==============================] - 7s 2ms/step - loss: 0.2948 - accuracy: 0.9141 - val_loss: 0.1339 - val_accuracy: 0.9600\n",
            "Epoch 2/5\n",
            "1875/1875 [==============================] - 4s 2ms/step - loss: 0.1449 - accuracy: 0.9571 - val_loss: 0.1015 - val_accuracy: 0.9700\n",
            "Epoch 3/5\n",
            "1875/1875 [==============================] - 4s 2ms/step - loss: 0.1069 - accuracy: 0.9680 - val_loss: 0.0852 - val_accuracy: 0.9744\n",
            "Epoch 4/5\n",
            "1875/1875 [==============================] - 4s 2ms/step - loss: 0.0902 - accuracy: 0.9721 - val_loss: 0.0823 - val_accuracy: 0.9751\n",
            "Epoch 5/5\n",
            "1875/1875 [==============================] - 4s 2ms/step - loss: 0.0729 - accuracy: 0.9773 - val_loss: 0.0791 - val_accuracy: 0.9760\n"
          ],
          "name": "stdout"
        },
        {
          "output_type": "execute_result",
          "data": {
            "text/plain": [
              "<tensorflow.python.keras.callbacks.History at 0x7f36516a5790>"
            ]
          },
          "metadata": {
            "tags": []
          },
          "execution_count": 4
        }
      ]
    },
    {
      "cell_type": "code",
      "metadata": {
        "id": "4JwT_4LL0kCG",
        "colab": {
          "base_uri": "https://localhost:8080/"
        },
        "outputId": "6541fd67-7d2b-4a47-ceaa-27f9db35707f"
      },
      "source": [
        "model.save('mnist_model')"
      ],
      "execution_count": null,
      "outputs": [
        {
          "output_type": "stream",
          "text": [
            "INFO:tensorflow:Assets written to: mnist_model/assets\n"
          ],
          "name": "stdout"
        }
      ]
    },
    {
      "cell_type": "markdown",
      "metadata": {
        "id": "qH2cL8J19Ps_"
      },
      "source": [
        "## Freezing the Model\n",
        "https://medium.com/@sebastingarcaacosta/how-to-export-a-tensorflow-2-x-keras-model-to-a-frozen-and-optimized-graph-39740846d9eb"
      ]
    },
    {
      "cell_type": "code",
      "metadata": {
        "colab": {
          "base_uri": "https://localhost:8080/"
        },
        "id": "1edlHtV739on",
        "outputId": "092cd20b-ea68-4eef-c792-9346107b04db"
      },
      "source": [
        "from tensorflow.python.framework.convert_to_constants import convert_variables_to_constants_v2\n",
        "frozen_out_path = './'\n",
        "frozen_graph_filename = 'frozen_graph'\n",
        "\n",
        "full_model = tf.function(lambda x: model(x))\n",
        "full_model = full_model.get_concrete_function(\n",
        "    tf.TensorSpec(model.inputs[0].shape, model.inputs[0].dtype)\n",
        ")\n",
        "\n",
        "frozen_func = convert_variables_to_constants_v2(full_model)\n",
        "frozen_func.graph.as_graph_def()\n",
        "\n",
        "layers = [op.name for op in frozen_func.graph.get_operations()]\n",
        "print(\"-\" * 60)\n",
        "print(\"Frozen model layers:\")\n",
        "for layer in layers:\n",
        "  print(layer)\n",
        "\n",
        "print(\"-\" * 60)\n",
        "print(\"Fronzen model inputs: \")\n",
        "print(frozen_func.inputs)\n",
        "print(\"Frozen model outputs: \")\n",
        "print(frozen_func.outputs)\n",
        "\n"
      ],
      "execution_count": null,
      "outputs": [
        {
          "output_type": "stream",
          "text": [
            "------------------------------------------------------------\n",
            "Frozen model layers:\n",
            "x\n",
            "sequential/input/Const\n",
            "sequential/input/Reshape\n",
            "sequential/dense/MatMul/ReadVariableOp/resource\n",
            "sequential/dense/MatMul/ReadVariableOp\n",
            "sequential/dense/MatMul\n",
            "sequential/dense/BiasAdd/ReadVariableOp/resource\n",
            "sequential/dense/BiasAdd/ReadVariableOp\n",
            "sequential/dense/BiasAdd\n",
            "sequential/dense/Relu\n",
            "sequential/dropout/Identity\n",
            "sequential/output/MatMul/ReadVariableOp/resource\n",
            "sequential/output/MatMul/ReadVariableOp\n",
            "sequential/output/MatMul\n",
            "sequential/output/BiasAdd/ReadVariableOp/resource\n",
            "sequential/output/BiasAdd/ReadVariableOp\n",
            "sequential/output/BiasAdd\n",
            "sequential/output/Softmax\n",
            "Identity\n",
            "------------------------------------------------------------\n",
            "Fronzen model inputs: \n",
            "[<tf.Tensor 'x:0' shape=(None, 28, 28) dtype=float32>]\n",
            "Frozen model outputs: \n",
            "[<tf.Tensor 'Identity:0' shape=(None, 10) dtype=float32>]\n"
          ],
          "name": "stdout"
        }
      ]
    },
    {
      "cell_type": "code",
      "metadata": {
        "colab": {
          "base_uri": "https://localhost:8080/",
          "height": 34
        },
        "id": "H_lS0Ekw8RFC",
        "outputId": "796e8afc-f709-4e98-e468-aa7464815c6a"
      },
      "source": [
        "tf.io.write_graph(graph_or_graph_def=frozen_func.graph,\n",
        "                  logdir=frozen_out_path,\n",
        "                  name=f\"{frozen_graph_filename}.pb\",\n",
        "                  as_text=False)\n"
      ],
      "execution_count": null,
      "outputs": [
        {
          "output_type": "execute_result",
          "data": {
            "application/vnd.google.colaboratory.intrinsic+json": {
              "type": "string"
            },
            "text/plain": [
              "'./frozen_graph.pb'"
            ]
          },
          "metadata": {
            "tags": []
          },
          "execution_count": 7
        }
      ]
    }
  ]
}