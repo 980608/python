{
  "nbformat": 4,
  "nbformat_minor": 0,
  "metadata": {
    "colab": {
      "name": "알고리즘&자료구조.ipynb",
      "provenance": [],
      "authorship_tag": "ABX9TyPvU+j3kf3pGTrgYl6IQbNB",
      "include_colab_link": true
    },
    "kernelspec": {
      "name": "python3",
      "display_name": "Python 3"
    },
    "language_info": {
      "name": "python"
    }
  },
  "cells": [
    {
      "cell_type": "markdown",
      "metadata": {
        "id": "view-in-github",
        "colab_type": "text"
      },
      "source": [
        "<a href=\"https://colab.research.google.com/github/980608/python/blob/main/%EC%95%8C%EA%B3%A0%EB%A6%AC%EC%A6%98%26%EC%9E%90%EB%A3%8C%EA%B5%AC%EC%A1%B0.ipynb\" target=\"_parent\"><img src=\"https://colab.research.google.com/assets/colab-badge.svg\" alt=\"Open In Colab\"/></a>"
      ]
    },
    {
      "cell_type": "code",
      "metadata": {
        "colab": {
          "base_uri": "https://localhost:8080/"
        },
        "id": "RmMpjSS_3mNj",
        "outputId": "40ed626e-5fb7-4d27-fd3c-8ea3448f5a50"
      },
      "source": [
        "#  알고리즘 - 문제 해결 절차. 실 생활에서의 알고리즘 EX)요리 레시피, 악보\n",
        "\n",
        "\n",
        "#  1 부터 n까지 정수의 합을 구하는 알고리즘...\n",
        "\n",
        "#  1부터 10까지의 정수\n",
        "#  1 더하기 2 결과 3을 기억한다.\n",
        "#  기억해둔 3에 그 다음 숫자 3을 더한 6을 기억한다.\n",
        "#  기억해둔 6에 그 다음 숫자 4를 더한 10을 기억한다.\n",
        "\n",
        "\n",
        "#  .....그 다음 숫자 10을 더한 55를 기억한다.\n",
        "#  마지막 숫자를 출력한다.\n",
        "\n",
        "# n입력 -> 알고리즘 -> 출력(1부터 n 까지의 합)\n",
        "\n",
        "def sum_n(n):\n",
        "  s = 0\n",
        "  for i in range(1,n+1):\n",
        "    s = s + i\n",
        "    #print('s=',s, 'i=', i)\n",
        "  return s\n",
        "print(sum_n(100))"
      ],
      "execution_count": 8,
      "outputs": [
        {
          "output_type": "stream",
          "name": "stdout",
          "text": [
            "5050\n"
          ]
        }
      ]
    },
    {
      "cell_type": "code",
      "metadata": {
        "colab": {
          "base_uri": "https://localhost:8080/"
        },
        "id": "yogzjapq5IUX",
        "outputId": "2d965e0f-aa9b-47f2-d703-293084bdf5ad"
      },
      "source": [
        "def sum_m(m):\n",
        "  return m*(m+1) // 2\n",
        "\n",
        "print(sum_m(100))\n",
        "\n",
        "m(m+1)\n",
        "------\n",
        "  2"
      ],
      "execution_count": 11,
      "outputs": [
        {
          "output_type": "stream",
          "name": "stdout",
          "text": [
            "5050\n"
          ]
        }
      ]
    },
    {
      "cell_type": "code",
      "metadata": {
        "colab": {
          "base_uri": "https://localhost:8080/"
        },
        "id": "hI6BJLbs628p",
        "outputId": "af3815a8-b91b-49ff-dccf-b253f954e253"
      },
      "source": [
        "#  최대값 찾기\n",
        "#  주어진 숫자 n개 중에서 가장 큰 수를 찾는 알고리즘...\n",
        "\n",
        "# 4,6,8,1,3,9  => 9\n",
        "\n",
        "def find_max(a):\n",
        "  n = len(a)\n",
        "  mx = a[0]\n",
        "  for i in range(1,n):\n",
        "    if a[i]  > mx:\n",
        "      mx = a[i]\n",
        "      print(mx)\n",
        "  return mx\n",
        "v = [4,6,8,1,3,9]\n",
        "print(find_max(v))"
      ],
      "execution_count": 15,
      "outputs": [
        {
          "output_type": "stream",
          "name": "stdout",
          "text": [
            "6\n",
            "8\n",
            "9\n",
            "9\n"
          ]
        }
      ]
    },
    {
      "cell_type": "code",
      "metadata": {
        "colab": {
          "base_uri": "https://localhost:8080/"
        },
        "id": "A5uTMCLs8zRQ",
        "outputId": "c0f8a1d2-3f6b-427c-d943-1572ed562971"
      },
      "source": [
        "#  최소값 찾기\n",
        "#  주어진 숫자 n개 중에서 가장 작은 수를 찾는 알고리즘...\n",
        "# 4,6,8,1,3,9  => 9\n",
        "\n",
        "def find_min(a):\n",
        "  n = len(a)\n",
        "  mn = a[0]\n",
        "  for i in range(1,n):\n",
        "    if a[i] < mn:\n",
        "      mn = a[i]\n",
        "      print(mn)\n",
        "  return mn\n",
        "v = [4,6,8,1,3,9]\n",
        "print(find_min(v))"
      ],
      "execution_count": 17,
      "outputs": [
        {
          "output_type": "stream",
          "name": "stdout",
          "text": [
            "1\n",
            "1\n"
          ]
        }
      ]
    },
    {
      "cell_type": "code",
      "metadata": {
        "colab": {
          "base_uri": "https://localhost:8080/"
        },
        "id": "GN9tU1xs9zWV",
        "outputId": "5570c378-b1ec-462c-cc51-2f1a3df65d2e"
      },
      "source": [
        "#  최대값 위치 찾기\n",
        "#  주어진 숫자 n개 중에서 가장 큰 수를 위치 찾는 알고리즘...\n",
        "# 4,6,8,1,3,9  => 9\n",
        "\n",
        "def find_max_idx(a):\n",
        "  n = len(a)\n",
        "  mxidx = 0\n",
        "  for i in range(1,n):\n",
        "    if a[i] > a[midx]:\n",
        "      mxidx = i\n",
        "      # print(mx)\n",
        "  return mxidx\n",
        "v = [4,6,8,1,3,9]\n",
        "print(find_max_idx(v))\n"
      ],
      "execution_count": 22,
      "outputs": [
        {
          "output_type": "stream",
          "name": "stdout",
          "text": [
            "5\n"
          ]
        }
      ]
    },
    {
      "cell_type": "code",
      "metadata": {
        "colab": {
          "base_uri": "https://localhost:8080/"
        },
        "id": "UCzyTKI3-Z7_",
        "outputId": "89b5e344-ebc6-430d-cfb0-5d8c4697ca86"
      },
      "source": [
        "#  최소값 위치 찾기\n",
        "#  주어진 숫자 n개 중에서 가장 작은 수를 위치 찾는 알고리즘...\n",
        "# 4,6,8,1,3,9  => 9\n",
        "\n",
        "def find_min_idx(a):\n",
        "  n = len(a)\n",
        "  mnidx = 0\n",
        "  for i in range(1,n):\n",
        "    if a [i] < a[mnidx]:\n",
        "      mnidx = i\n",
        "  return mnidx\n",
        "v = [4,6,8,1,3,9]\n",
        "print(find_min_idx(v))"
      ],
      "execution_count": 25,
      "outputs": [
        {
          "output_type": "stream",
          "name": "stdout",
          "text": [
            "3\n"
          ]
        }
      ]
    },
    {
      "cell_type": "code",
      "metadata": {
        "colab": {
          "base_uri": "https://localhost:8080/"
        },
        "id": "Psrmnql4AgsN",
        "outputId": "32856641-f988-416b-dbb0-ee4900b23b5f"
      },
      "source": [
        "#  팩토리얼 구하기\n",
        "\n",
        "# 3! = 1 * 2 * 3 =6\n",
        "# 5! = 1 * 2 * 3 * 4 * 5 = 120\n",
        "\n",
        "def fact(a):\n",
        "  f = 1\n",
        "  for i in range(1, a+1):\n",
        "    f = f*i\n",
        "  return f\n",
        "\n",
        "print(fact(3))"
      ],
      "execution_count": 36,
      "outputs": [
        {
          "output_type": "stream",
          "name": "stdout",
          "text": [
            "6\n"
          ]
        }
      ]
    },
    {
      "cell_type": "code",
      "metadata": {
        "id": "1HNK0__yBami"
      },
      "source": [
        "# 재귀 팩토리얼 / 좋지 않은 방법(이쁜 쓰레기) -> 메모리 용량 차지만한다\n",
        "\n",
        "def hello():\n",
        "  print('Hello')\n",
        "  hello()\n",
        "hello()"
      ],
      "execution_count": null,
      "outputs": []
    },
    {
      "cell_type": "code",
      "metadata": {
        "colab": {
          "base_uri": "https://localhost:8080/"
        },
        "id": "HmaIzQurFf9-",
        "outputId": "788629d1-55e6-4780-eb0f-6b032a6917d8"
      },
      "source": [
        "def fact(m):\n",
        "  if m <= 1:\n",
        "    return 1\n",
        "  return m * fact(m-1)\n",
        "\n",
        "print(fact(3))"
      ],
      "execution_count": 37,
      "outputs": [
        {
          "output_type": "stream",
          "name": "stdout",
          "text": [
            "6\n"
          ]
        }
      ]
    },
    {
      "cell_type": "code",
      "metadata": {
        "id": "aBexAIXVF5TU"
      },
      "source": [
        "# 자료구조: 데이터와 정보를 컴퓨터에 저장하고 보관하는 방식.\n",
        "#           알고리즘 문제를 풀려면 주어진 자료를 효율적으로 정리해서 보관하는 것이 필수\n",
        "\n",
        "#  회문찾기(palindrome) -  앞뒤가 똑같은걸 찾는다/큐와 스택\n",
        "역삼역\n",
        "기러기\n",
        "일요일\n",
        "사진사\n",
        "기특한 특기\n",
        "다시 합창 합시다\n",
        "\n",
        "#  큐 que\n",
        "# 줄서기 - 먼저온사람이 먼저 택시를 탄다. First in First out\n",
        "\n",
        "#  1,2,3,4              1,2,3,4\n",
        "\n",
        "#  in = enqueue         out = dequeue    \n",
        "\n",
        "# 스택 stack\n",
        "# 접시쌓기 - 맨 위에 있는 접시 부터 처리한다. last in first out\n",
        "\n",
        "#   1,2,3,4               4,3,2,1\n",
        "\n",
        "#   in = push            out = pop\n"
      ],
      "execution_count": null,
      "outputs": []
    },
    {
      "cell_type": "code",
      "metadata": {
        "colab": {
          "base_uri": "https://localhost:8080/"
        },
        "id": "IVaUxEWyG24L",
        "outputId": "105a1135-8288-43c5-9ec2-c203d8ed5870"
      },
      "source": [
        "# 회문찾기\n",
        "\n",
        "# <- w o w\n",
        "# 큐 w == 스택 w\n",
        "#    w o w ->\n",
        "\n",
        "def palin(s):\n",
        "  qu = []\n",
        "  st = []\n",
        "\n",
        "  # 1단계 - 각각 규와 스택에 넣는다.\n",
        "  for x in s:\n",
        "    if x.isalpha(): # 숫자, 기호, 특수문자 아니면\n",
        "      qu.append(x.lower())\n",
        "      st.append(x.lower())\n",
        "  # 2단계 = 큐와 스택에 들어 있는 문자를 꺼내면서 비교\n",
        "  while qu: # 규에 문자가 있는 만큼만 반복\n",
        "    if qu.pop(0) != st.pop():\n",
        "      return False\n",
        "    return True\n",
        "\n",
        "print(palin('wow'))\n",
        "print(palin('madam, i\"m adam'))\n",
        "print(palin('madam, iam adam'))"
      ],
      "execution_count": 39,
      "outputs": [
        {
          "output_type": "stream",
          "name": "stdout",
          "text": [
            "True\n",
            "True\n",
            "True\n"
          ]
        }
      ]
    },
    {
      "cell_type": "code",
      "metadata": {
        "id": "1Z3ROuPbL0e2"
      },
      "source": [
        ""
      ],
      "execution_count": null,
      "outputs": []
    }
  ]
}