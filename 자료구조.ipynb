{
  "nbformat": 4,
  "nbformat_minor": 0,
  "metadata": {
    "colab": {
      "name": "자료구조.ipynb",
      "provenance": [],
      "authorship_tag": "ABX9TyPTfPjDhDSonFUThAMhJdJs",
      "include_colab_link": true
    },
    "kernelspec": {
      "name": "python3",
      "display_name": "Python 3"
    },
    "language_info": {
      "name": "python"
    }
  },
  "cells": [
    {
      "cell_type": "markdown",
      "metadata": {
        "id": "view-in-github",
        "colab_type": "text"
      },
      "source": [
        "<a href=\"https://colab.research.google.com/github/980608/python/blob/main/%EC%9E%90%EB%A3%8C%EA%B5%AC%EC%A1%B0.ipynb\" target=\"_parent\"><img src=\"https://colab.research.google.com/assets/colab-badge.svg\" alt=\"Open In Colab\"/></a>"
      ]
    },
    {
      "cell_type": "code",
      "metadata": {
        "colab": {
          "base_uri": "https://localhost:8080/"
        },
        "id": "7DjEATnnfD8j",
        "outputId": "87d266f1-34a2-49b5-e07a-bf79bf76410d"
      },
      "source": [
        "# 웹 크롤링\n",
        "# 인터넷에서 정보를 수집하여 분석\n",
        "# HTML,CSS,JAVA Script\n",
        "\n",
        "# 명언 수집.\n",
        "\n",
        "\n",
        "# 1. 웹페이지를 불러온다.\n",
        "# 2. 크롤링 원한는 위치를 찾는다.\n",
        "# 3. 원하는 내용을 찾아서 출력한다.\n",
        "\n",
        "# ! pip install requests\n",
        "# html.read()[:400]"
      ],
      "execution_count": null,
      "outputs": [
        {
          "output_type": "stream",
          "name": "stdout",
          "text": [
            "Requirement already satisfied: requests in /usr/local/lib/python3.7/dist-packages (2.23.0)\n",
            "Requirement already satisfied: chardet<4,>=3.0.2 in /usr/local/lib/python3.7/dist-packages (from requests) (3.0.4)\n",
            "Requirement already satisfied: idna<3,>=2.5 in /usr/local/lib/python3.7/dist-packages (from requests) (2.10)\n",
            "Requirement already satisfied: urllib3!=1.25.0,!=1.25.1,<1.26,>=1.21.1 in /usr/local/lib/python3.7/dist-packages (from requests) (1.24.3)\n",
            "Requirement already satisfied: certifi>=2017.4.17 in /usr/local/lib/python3.7/dist-packages (from requests) (2021.5.30)\n"
          ]
        }
      ]
    },
    {
      "cell_type": "code",
      "metadata": {
        "id": "RkxIFLwsfLmI"
      },
      "source": [
        "import re # 정규표현식\n",
        "import os # 시스템 관련\n",
        "import requests # 웹 연결\n",
        "import urllib.request as ur # 웹에서 가져온 데이터 다루기\n",
        "from bs4 import BeautifulSoup as bs #가져온 데이터를 분석이 용이하게 정리"
      ],
      "execution_count": null,
      "outputs": []
    },
    {
      "cell_type": "code",
      "metadata": {
        "id": "-mo1QilVfFRB"
      },
      "source": [
        "url = 'https://quotes.toscrape.com/'\n",
        "\n",
        "html = ur.urlopen(url)\n",
        "\n",
        "soup = bs(html.read(),'html.parser')\n",
        "\n",
        "print(soup)"
      ],
      "execution_count": null,
      "outputs": []
    },
    {
      "cell_type": "code",
      "metadata": {
        "id": "OIg6NJ-HfTfV"
      },
      "source": [
        "print(bs(ur.urlopen('http://quotes.toscrape.com/').read(),'html.parser'))"
      ],
      "execution_count": null,
      "outputs": []
    },
    {
      "cell_type": "code",
      "metadata": {
        "id": "oCi80o_afn2h"
      },
      "source": [
        "# HTML 의 기본 구조\n",
        "# <html>\n",
        "# <head>\n",
        "#       #  설정\n",
        "# </head>\n",
        "# <body>\n",
        "#       #  내용\n",
        "# </body>\n",
        "# </html>"
      ],
      "execution_count": null,
      "outputs": []
    },
    {
      "cell_type": "code",
      "metadata": {
        "colab": {
          "base_uri": "https://localhost:8080/"
        },
        "id": "jzu7IY83md53",
        "outputId": "e81708a9-e87a-4fcc-aaa4-30fa8ab894a8"
      },
      "source": [
        "soup.find_all('span')  #span을 전체 찾아주세요"
      ],
      "execution_count": null,
      "outputs": [
        {
          "output_type": "execute_result",
          "data": {
            "text/plain": [
              "[<span class=\"text\" itemprop=\"text\">“The world as we have created it is a process of our thinking. It cannot be changed without changing our thinking.”</span>,\n",
              " <span>by <small class=\"author\" itemprop=\"author\">Albert Einstein</small>\n",
              " <a href=\"/author/Albert-Einstein\">(about)</a>\n",
              " </span>,\n",
              " <span class=\"text\" itemprop=\"text\">“It is our choices, Harry, that show what we truly are, far more than our abilities.”</span>,\n",
              " <span>by <small class=\"author\" itemprop=\"author\">J.K. Rowling</small>\n",
              " <a href=\"/author/J-K-Rowling\">(about)</a>\n",
              " </span>,\n",
              " <span class=\"text\" itemprop=\"text\">“There are only two ways to live your life. One is as though nothing is a miracle. The other is as though everything is a miracle.”</span>,\n",
              " <span>by <small class=\"author\" itemprop=\"author\">Albert Einstein</small>\n",
              " <a href=\"/author/Albert-Einstein\">(about)</a>\n",
              " </span>,\n",
              " <span class=\"text\" itemprop=\"text\">“The person, be it gentleman or lady, who has not pleasure in a good novel, must be intolerably stupid.”</span>,\n",
              " <span>by <small class=\"author\" itemprop=\"author\">Jane Austen</small>\n",
              " <a href=\"/author/Jane-Austen\">(about)</a>\n",
              " </span>,\n",
              " <span class=\"text\" itemprop=\"text\">“Imperfection is beauty, madness is genius and it's better to be absolutely ridiculous than absolutely boring.”</span>,\n",
              " <span>by <small class=\"author\" itemprop=\"author\">Marilyn Monroe</small>\n",
              " <a href=\"/author/Marilyn-Monroe\">(about)</a>\n",
              " </span>,\n",
              " <span class=\"text\" itemprop=\"text\">“Try not to become a man of success. Rather become a man of value.”</span>,\n",
              " <span>by <small class=\"author\" itemprop=\"author\">Albert Einstein</small>\n",
              " <a href=\"/author/Albert-Einstein\">(about)</a>\n",
              " </span>,\n",
              " <span class=\"text\" itemprop=\"text\">“It is better to be hated for what you are than to be loved for what you are not.”</span>,\n",
              " <span>by <small class=\"author\" itemprop=\"author\">André Gide</small>\n",
              " <a href=\"/author/Andre-Gide\">(about)</a>\n",
              " </span>,\n",
              " <span class=\"text\" itemprop=\"text\">“I have not failed. I've just found 10,000 ways that won't work.”</span>,\n",
              " <span>by <small class=\"author\" itemprop=\"author\">Thomas A. Edison</small>\n",
              " <a href=\"/author/Thomas-A-Edison\">(about)</a>\n",
              " </span>,\n",
              " <span class=\"text\" itemprop=\"text\">“A woman is like a tea bag; you never know how strong it is until it's in hot water.”</span>,\n",
              " <span>by <small class=\"author\" itemprop=\"author\">Eleanor Roosevelt</small>\n",
              " <a href=\"/author/Eleanor-Roosevelt\">(about)</a>\n",
              " </span>,\n",
              " <span class=\"text\" itemprop=\"text\">“A day without sunshine is like, you know, night.”</span>,\n",
              " <span>by <small class=\"author\" itemprop=\"author\">Steve Martin</small>\n",
              " <a href=\"/author/Steve-Martin\">(about)</a>\n",
              " </span>,\n",
              " <span aria-hidden=\"true\">→</span>,\n",
              " <span class=\"tag-item\">\n",
              " <a class=\"tag\" href=\"/tag/love/\" style=\"font-size: 28px\">love</a>\n",
              " </span>,\n",
              " <span class=\"tag-item\">\n",
              " <a class=\"tag\" href=\"/tag/inspirational/\" style=\"font-size: 26px\">inspirational</a>\n",
              " </span>,\n",
              " <span class=\"tag-item\">\n",
              " <a class=\"tag\" href=\"/tag/life/\" style=\"font-size: 26px\">life</a>\n",
              " </span>,\n",
              " <span class=\"tag-item\">\n",
              " <a class=\"tag\" href=\"/tag/humor/\" style=\"font-size: 24px\">humor</a>\n",
              " </span>,\n",
              " <span class=\"tag-item\">\n",
              " <a class=\"tag\" href=\"/tag/books/\" style=\"font-size: 22px\">books</a>\n",
              " </span>,\n",
              " <span class=\"tag-item\">\n",
              " <a class=\"tag\" href=\"/tag/reading/\" style=\"font-size: 14px\">reading</a>\n",
              " </span>,\n",
              " <span class=\"tag-item\">\n",
              " <a class=\"tag\" href=\"/tag/friendship/\" style=\"font-size: 10px\">friendship</a>\n",
              " </span>,\n",
              " <span class=\"tag-item\">\n",
              " <a class=\"tag\" href=\"/tag/friends/\" style=\"font-size: 8px\">friends</a>\n",
              " </span>,\n",
              " <span class=\"tag-item\">\n",
              " <a class=\"tag\" href=\"/tag/truth/\" style=\"font-size: 8px\">truth</a>\n",
              " </span>,\n",
              " <span class=\"tag-item\">\n",
              " <a class=\"tag\" href=\"/tag/simile/\" style=\"font-size: 6px\">simile</a>\n",
              " </span>,\n",
              " <span class=\"sh-red\">❤</span>]"
            ]
          },
          "metadata": {},
          "execution_count": 14
        }
      ]
    },
    {
      "cell_type": "code",
      "metadata": {
        "id": "PrX3r26Tm9vS"
      },
      "source": [
        "quote = soup.find_all('span') #담기"
      ],
      "execution_count": null,
      "outputs": []
    },
    {
      "cell_type": "code",
      "metadata": {
        "colab": {
          "base_uri": "https://localhost:8080/"
        },
        "id": "gGPhr8aznYa7",
        "outputId": "d196a817-bd3c-445b-84f0-c0e723cec5b7"
      },
      "source": [
        "quote[0]"
      ],
      "execution_count": null,
      "outputs": [
        {
          "output_type": "execute_result",
          "data": {
            "text/plain": [
              "<span class=\"text\" itemprop=\"text\">“The world as we have created it is a process of our thinking. It cannot be changed without changing our thinking.”</span>"
            ]
          },
          "metadata": {},
          "execution_count": 18
        }
      ]
    },
    {
      "cell_type": "code",
      "metadata": {
        "colab": {
          "base_uri": "https://localhost:8080/",
          "height": 34
        },
        "id": "upzHb-rLnclU",
        "outputId": "d9e05577-ea29-469d-a64d-7e7c7943ee44"
      },
      "source": [
        "quote[0].text"
      ],
      "execution_count": null,
      "outputs": [
        {
          "output_type": "execute_result",
          "data": {
            "application/vnd.google.colaboratory.intrinsic+json": {
              "type": "string"
            },
            "text/plain": [
              "'“The world as we have created it is a process of our thinking. It cannot be changed without changing our thinking.”'"
            ]
          },
          "metadata": {},
          "execution_count": 20
        }
      ]
    },
    {
      "cell_type": "code",
      "metadata": {
        "colab": {
          "base_uri": "https://localhost:8080/"
        },
        "id": "rmL4e5o_nqtt",
        "outputId": "78a3d6e2-441c-43c3-b79f-3685bcc0394b"
      },
      "source": [
        "for a in quote:\n",
        "  print(a.text)"
      ],
      "execution_count": null,
      "outputs": [
        {
          "output_type": "stream",
          "name": "stdout",
          "text": [
            "“The world as we have created it is a process of our thinking. It cannot be changed without changing our thinking.”\n",
            "by Albert Einstein\n",
            "(about)\n",
            "\n",
            "“It is our choices, Harry, that show what we truly are, far more than our abilities.”\n",
            "by J.K. Rowling\n",
            "(about)\n",
            "\n",
            "“There are only two ways to live your life. One is as though nothing is a miracle. The other is as though everything is a miracle.”\n",
            "by Albert Einstein\n",
            "(about)\n",
            "\n",
            "“The person, be it gentleman or lady, who has not pleasure in a good novel, must be intolerably stupid.”\n",
            "by Jane Austen\n",
            "(about)\n",
            "\n",
            "“Imperfection is beauty, madness is genius and it's better to be absolutely ridiculous than absolutely boring.”\n",
            "by Marilyn Monroe\n",
            "(about)\n",
            "\n",
            "“Try not to become a man of success. Rather become a man of value.”\n",
            "by Albert Einstein\n",
            "(about)\n",
            "\n",
            "“It is better to be hated for what you are than to be loved for what you are not.”\n",
            "by André Gide\n",
            "(about)\n",
            "\n",
            "“I have not failed. I've just found 10,000 ways that won't work.”\n",
            "by Thomas A. Edison\n",
            "(about)\n",
            "\n",
            "“A woman is like a tea bag; you never know how strong it is until it's in hot water.”\n",
            "by Eleanor Roosevelt\n",
            "(about)\n",
            "\n",
            "“A day without sunshine is like, you know, night.”\n",
            "by Steve Martin\n",
            "(about)\n",
            "\n",
            "→\n",
            "\n",
            "love\n",
            "\n",
            "\n",
            "inspirational\n",
            "\n",
            "\n",
            "life\n",
            "\n",
            "\n",
            "humor\n",
            "\n",
            "\n",
            "books\n",
            "\n",
            "\n",
            "reading\n",
            "\n",
            "\n",
            "friendship\n",
            "\n",
            "\n",
            "friends\n",
            "\n",
            "\n",
            "truth\n",
            "\n",
            "\n",
            "simile\n",
            "\n",
            "❤\n"
          ]
        }
      ]
    },
    {
      "cell_type": "code",
      "metadata": {
        "colab": {
          "base_uri": "https://localhost:8080/"
        },
        "id": "ZMIEY2MpnzLW",
        "outputId": "3eb199ac-10b5-4a63-8c38-9d0deef50bb4"
      },
      "source": [
        "soup.find_all('div',{'class':'quote'})[0]"
      ],
      "execution_count": null,
      "outputs": [
        {
          "output_type": "execute_result",
          "data": {
            "text/plain": [
              "<div class=\"quote\" itemscope=\"\" itemtype=\"http://schema.org/CreativeWork\">\n",
              "<span class=\"text\" itemprop=\"text\">“The world as we have created it is a process of our thinking. It cannot be changed without changing our thinking.”</span>\n",
              "<span>by <small class=\"author\" itemprop=\"author\">Albert Einstein</small>\n",
              "<a href=\"/author/Albert-Einstein\">(about)</a>\n",
              "</span>\n",
              "<div class=\"tags\">\n",
              "            Tags:\n",
              "            <meta class=\"keywords\" content=\"change,deep-thoughts,thinking,world\" itemprop=\"keywords\"/>\n",
              "<a class=\"tag\" href=\"/tag/change/page/1/\">change</a>\n",
              "<a class=\"tag\" href=\"/tag/deep-thoughts/page/1/\">deep-thoughts</a>\n",
              "<a class=\"tag\" href=\"/tag/thinking/page/1/\">thinking</a>\n",
              "<a class=\"tag\" href=\"/tag/world/page/1/\">world</a>\n",
              "</div>\n",
              "</div>"
            ]
          },
          "metadata": {},
          "execution_count": 29
        }
      ]
    },
    {
      "cell_type": "code",
      "metadata": {
        "colab": {
          "base_uri": "https://localhost:8080/",
          "height": 34
        },
        "id": "zOKUDrCArCz3",
        "outputId": "a885da22-12f0-482a-f356-fc1ebc69b2ce"
      },
      "source": [
        "soup.find_all('div',{'class':'quote'})[0].text"
      ],
      "execution_count": null,
      "outputs": [
        {
          "output_type": "execute_result",
          "data": {
            "application/vnd.google.colaboratory.intrinsic+json": {
              "type": "string"
            },
            "text/plain": [
              "'\\n“The world as we have created it is a process of our thinking. It cannot be changed without changing our thinking.”\\nby Albert Einstein\\n(about)\\n\\n\\n            Tags:\\n            \\nchange\\ndeep-thoughts\\nthinking\\nworld\\n\\n'"
            ]
          },
          "metadata": {},
          "execution_count": 30
        }
      ]
    },
    {
      "cell_type": "code",
      "metadata": {
        "colab": {
          "base_uri": "https://localhost:8080/"
        },
        "id": "zVa4eBhyrKWl",
        "outputId": "416db905-adda-46d5-cee6-97521e1d4870"
      },
      "source": [
        "print(soup.find_all('div',{'class':'quote'})[5].text)"
      ],
      "execution_count": null,
      "outputs": [
        {
          "output_type": "stream",
          "name": "stdout",
          "text": [
            "\n",
            "“Try not to become a man of success. Rather become a man of value.”\n",
            "by Albert Einstein\n",
            "(about)\n",
            "\n",
            "\n",
            "            Tags:\n",
            "            \n",
            "adulthood\n",
            "success\n",
            "value\n",
            "\n",
            "\n"
          ]
        }
      ]
    },
    {
      "cell_type": "code",
      "metadata": {
        "id": "OGxUIO_wrVZn"
      },
      "source": [
        "# c = soup.find_all('div',{'class':'quote'})\n",
        "# for i in c:\n",
        "#   print(i.text)"
      ],
      "execution_count": null,
      "outputs": []
    },
    {
      "cell_type": "code",
      "metadata": {
        "colab": {
          "base_uri": "https://localhost:8080/"
        },
        "id": "-dn0pg4Aro_K",
        "outputId": "3b7043e2-0862-4510-a9a7-a216a612c22e"
      },
      "source": [
        "for i in soup.find_all('div',{'class':'quote'}):\n",
        "  print(i.text)"
      ],
      "execution_count": null,
      "outputs": [
        {
          "output_type": "stream",
          "name": "stdout",
          "text": [
            "\n",
            "“The world as we have created it is a process of our thinking. It cannot be changed without changing our thinking.”\n",
            "by Albert Einstein\n",
            "(about)\n",
            "\n",
            "\n",
            "            Tags:\n",
            "            \n",
            "change\n",
            "deep-thoughts\n",
            "thinking\n",
            "world\n",
            "\n",
            "\n",
            "\n",
            "“It is our choices, Harry, that show what we truly are, far more than our abilities.”\n",
            "by J.K. Rowling\n",
            "(about)\n",
            "\n",
            "\n",
            "            Tags:\n",
            "            \n",
            "abilities\n",
            "choices\n",
            "\n",
            "\n",
            "\n",
            "“There are only two ways to live your life. One is as though nothing is a miracle. The other is as though everything is a miracle.”\n",
            "by Albert Einstein\n",
            "(about)\n",
            "\n",
            "\n",
            "            Tags:\n",
            "            \n",
            "inspirational\n",
            "life\n",
            "live\n",
            "miracle\n",
            "miracles\n",
            "\n",
            "\n",
            "\n",
            "“The person, be it gentleman or lady, who has not pleasure in a good novel, must be intolerably stupid.”\n",
            "by Jane Austen\n",
            "(about)\n",
            "\n",
            "\n",
            "            Tags:\n",
            "            \n",
            "aliteracy\n",
            "books\n",
            "classic\n",
            "humor\n",
            "\n",
            "\n",
            "\n",
            "“Imperfection is beauty, madness is genius and it's better to be absolutely ridiculous than absolutely boring.”\n",
            "by Marilyn Monroe\n",
            "(about)\n",
            "\n",
            "\n",
            "            Tags:\n",
            "            \n",
            "be-yourself\n",
            "inspirational\n",
            "\n",
            "\n",
            "\n",
            "“Try not to become a man of success. Rather become a man of value.”\n",
            "by Albert Einstein\n",
            "(about)\n",
            "\n",
            "\n",
            "            Tags:\n",
            "            \n",
            "adulthood\n",
            "success\n",
            "value\n",
            "\n",
            "\n",
            "\n",
            "“It is better to be hated for what you are than to be loved for what you are not.”\n",
            "by André Gide\n",
            "(about)\n",
            "\n",
            "\n",
            "            Tags:\n",
            "            \n",
            "life\n",
            "love\n",
            "\n",
            "\n",
            "\n",
            "“I have not failed. I've just found 10,000 ways that won't work.”\n",
            "by Thomas A. Edison\n",
            "(about)\n",
            "\n",
            "\n",
            "            Tags:\n",
            "            \n",
            "edison\n",
            "failure\n",
            "inspirational\n",
            "paraphrased\n",
            "\n",
            "\n",
            "\n",
            "“A woman is like a tea bag; you never know how strong it is until it's in hot water.”\n",
            "by Eleanor Roosevelt\n",
            "(about)\n",
            "\n",
            "\n",
            "            Tags:\n",
            "            \n",
            "misattributed-eleanor-roosevelt\n",
            "\n",
            "\n",
            "\n",
            "“A day without sunshine is like, you know, night.”\n",
            "by Steve Martin\n",
            "(about)\n",
            "\n",
            "\n",
            "            Tags:\n",
            "            \n",
            "humor\n",
            "obvious\n",
            "simile\n",
            "\n",
            "\n"
          ]
        }
      ]
    },
    {
      "cell_type": "code",
      "metadata": {
        "id": "cDKUPSeAsDiD"
      },
      "source": [
        ""
      ],
      "execution_count": null,
      "outputs": []
    }
  ]
}